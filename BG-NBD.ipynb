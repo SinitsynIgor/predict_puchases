{
 "cells": [
  {
   "cell_type": "code",
   "execution_count": 1,
   "id": "be112758",
   "metadata": {},
   "outputs": [],
   "source": [
    "# https://towardsdatascience.com/modeling-customer-lifetime-value-with-lifetimes-71171a35f654"
   ]
  },
  {
   "cell_type": "code",
   "execution_count": 2,
   "id": "0214fcd4",
   "metadata": {},
   "outputs": [],
   "source": [
    "import warnings\n",
    "warnings.filterwarnings(\"ignore\")\n",
    "\n",
    "import pandas as pd\n",
    "import numpy as np\n",
    "import pandas_gbq\n",
    "import os\n",
    "pd.options.display.max_columns = 100\n",
    "pd.options.display.max_rows = 300\n",
    "\n",
    "import pandas as pd\n",
    "from google.oauth2 import service_account\n",
    "\n",
    "from scipy.stats import norm\n",
    "import matplotlib.pyplot as plt\n",
    "import scipy\n",
    "\n",
    "from tqdm.auto import tqdm\n",
    "\n",
    "#plt.style.use('ggplot')\n",
    "\n",
    "import plotly as py\n",
    "import plotly.offline as pyoff\n",
    "import plotly.graph_objs as go\n",
    "\n",
    "import seaborn as sns\n",
    "%matplotlib inline\n",
    "import seaborn as sns\n",
    "import matplotlib.pyplot as plt"
   ]
  },
  {
   "cell_type": "code",
   "execution_count": 29,
   "id": "4921f593",
   "metadata": {},
   "outputs": [],
   "source": [
    "#df = pd.read_csv('data.csv')"
   ]
  },
  {
   "cell_type": "markdown",
   "id": "1dc435cd",
   "metadata": {},
   "source": [
    "- load date"
   ]
  },
  {
   "cell_type": "code",
   "execution_count": null,
   "id": "e10b1831",
   "metadata": {},
   "outputs": [],
   "source": [
    "from lifetimes.datasets import load_dataset\n",
    "\n",
    "transactions = load_dataset(\n",
    "    filename='CDNOW_sample.txt', \n",
    "    header=None, \n",
    "    delim_whitespace=True, \n",
    "    names=['customer_id', 'customer_index', 'date', 'quantity', 'amount'],\n",
    "    converters={'date': lambda x: pd.to_datetime(x, format=\"%Y%m%d\")}\n",
    ")"
   ]
  },
  {
   "cell_type": "code",
   "execution_count": 30,
   "id": "35a0fc83",
   "metadata": {},
   "outputs": [
    {
     "data": {
      "text/html": [
       "<div>\n",
       "<style scoped>\n",
       "    .dataframe tbody tr th:only-of-type {\n",
       "        vertical-align: middle;\n",
       "    }\n",
       "\n",
       "    .dataframe tbody tr th {\n",
       "        vertical-align: top;\n",
       "    }\n",
       "\n",
       "    .dataframe thead th {\n",
       "        text-align: right;\n",
       "    }\n",
       "</style>\n",
       "<table border=\"1\" class=\"dataframe\">\n",
       "  <thead>\n",
       "    <tr style=\"text-align: right;\">\n",
       "      <th></th>\n",
       "      <th>customer_id</th>\n",
       "      <th>customer_index</th>\n",
       "      <th>date</th>\n",
       "      <th>quantity</th>\n",
       "      <th>amount</th>\n",
       "    </tr>\n",
       "  </thead>\n",
       "  <tbody>\n",
       "    <tr>\n",
       "      <th>0</th>\n",
       "      <td>4</td>\n",
       "      <td>1</td>\n",
       "      <td>1997-01-01</td>\n",
       "      <td>2</td>\n",
       "      <td>29.33</td>\n",
       "    </tr>\n",
       "    <tr>\n",
       "      <th>1</th>\n",
       "      <td>4</td>\n",
       "      <td>1</td>\n",
       "      <td>1997-01-18</td>\n",
       "      <td>2</td>\n",
       "      <td>29.73</td>\n",
       "    </tr>\n",
       "    <tr>\n",
       "      <th>2</th>\n",
       "      <td>4</td>\n",
       "      <td>1</td>\n",
       "      <td>1997-08-02</td>\n",
       "      <td>1</td>\n",
       "      <td>14.96</td>\n",
       "    </tr>\n",
       "  </tbody>\n",
       "</table>\n",
       "</div>"
      ],
      "text/plain": [
       "   customer_id  customer_index       date  quantity  amount\n",
       "0            4               1 1997-01-01         2   29.33\n",
       "1            4               1 1997-01-18         2   29.73\n",
       "2            4               1 1997-08-02         1   14.96"
      ]
     },
     "execution_count": 30,
     "metadata": {},
     "output_type": "execute_result"
    }
   ],
   "source": [
    "transactions.head(3)"
   ]
  },
  {
   "cell_type": "markdown",
   "id": "0c59139d",
   "metadata": {},
   "source": [
    "- restructure table to RFM format"
   ]
  },
  {
   "cell_type": "code",
   "execution_count": 31,
   "id": "930a2d6a",
   "metadata": {},
   "outputs": [],
   "source": [
    "from lifetimes.utils import summary_data_from_transaction_data\n",
    "\n",
    "rfm = summary_data_from_transaction_data(transactions=transactions,\n",
    "                                         customer_id_col='customer_id',\n",
    "                                         datetime_col='date',\n",
    "                                         monetary_value_col = 'amount',\n",
    "                                         observation_period_end=pd.to_datetime('2022-07-28'),\n",
    "                                         freq='W')"
   ]
  },
  {
   "cell_type": "code",
   "execution_count": 32,
   "id": "7f6509b4",
   "metadata": {},
   "outputs": [
    {
     "data": {
      "text/html": [
       "<div>\n",
       "<style scoped>\n",
       "    .dataframe tbody tr th:only-of-type {\n",
       "        vertical-align: middle;\n",
       "    }\n",
       "\n",
       "    .dataframe tbody tr th {\n",
       "        vertical-align: top;\n",
       "    }\n",
       "\n",
       "    .dataframe thead th {\n",
       "        text-align: right;\n",
       "    }\n",
       "</style>\n",
       "<table border=\"1\" class=\"dataframe\">\n",
       "  <thead>\n",
       "    <tr style=\"text-align: right;\">\n",
       "      <th></th>\n",
       "      <th>frequency</th>\n",
       "      <th>recency</th>\n",
       "      <th>T</th>\n",
       "      <th>monetary_value</th>\n",
       "    </tr>\n",
       "    <tr>\n",
       "      <th>customer_id</th>\n",
       "      <th></th>\n",
       "      <th></th>\n",
       "      <th></th>\n",
       "      <th></th>\n",
       "    </tr>\n",
       "  </thead>\n",
       "  <tbody>\n",
       "    <tr>\n",
       "      <th>4</th>\n",
       "      <td>3.0</td>\n",
       "      <td>49.0</td>\n",
       "      <td>1334.0</td>\n",
       "      <td>23.723333</td>\n",
       "    </tr>\n",
       "    <tr>\n",
       "      <th>18</th>\n",
       "      <td>0.0</td>\n",
       "      <td>0.0</td>\n",
       "      <td>1334.0</td>\n",
       "      <td>0.000000</td>\n",
       "    </tr>\n",
       "    <tr>\n",
       "      <th>21</th>\n",
       "      <td>1.0</td>\n",
       "      <td>2.0</td>\n",
       "      <td>1334.0</td>\n",
       "      <td>11.770000</td>\n",
       "    </tr>\n",
       "    <tr>\n",
       "      <th>50</th>\n",
       "      <td>0.0</td>\n",
       "      <td>0.0</td>\n",
       "      <td>1334.0</td>\n",
       "      <td>0.000000</td>\n",
       "    </tr>\n",
       "    <tr>\n",
       "      <th>60</th>\n",
       "      <td>0.0</td>\n",
       "      <td>0.0</td>\n",
       "      <td>1330.0</td>\n",
       "      <td>0.000000</td>\n",
       "    </tr>\n",
       "    <tr>\n",
       "      <th>...</th>\n",
       "      <td>...</td>\n",
       "      <td>...</td>\n",
       "      <td>...</td>\n",
       "      <td>...</td>\n",
       "    </tr>\n",
       "    <tr>\n",
       "      <th>23537</th>\n",
       "      <td>2.0</td>\n",
       "      <td>53.0</td>\n",
       "      <td>1322.0</td>\n",
       "      <td>19.775000</td>\n",
       "    </tr>\n",
       "    <tr>\n",
       "      <th>23551</th>\n",
       "      <td>5.0</td>\n",
       "      <td>24.0</td>\n",
       "      <td>1322.0</td>\n",
       "      <td>44.928000</td>\n",
       "    </tr>\n",
       "    <tr>\n",
       "      <th>23554</th>\n",
       "      <td>1.0</td>\n",
       "      <td>44.0</td>\n",
       "      <td>1322.0</td>\n",
       "      <td>24.600000</td>\n",
       "    </tr>\n",
       "    <tr>\n",
       "      <th>23556</th>\n",
       "      <td>6.0</td>\n",
       "      <td>62.0</td>\n",
       "      <td>1322.0</td>\n",
       "      <td>31.871667</td>\n",
       "    </tr>\n",
       "    <tr>\n",
       "      <th>23569</th>\n",
       "      <td>0.0</td>\n",
       "      <td>0.0</td>\n",
       "      <td>1322.0</td>\n",
       "      <td>0.000000</td>\n",
       "    </tr>\n",
       "  </tbody>\n",
       "</table>\n",
       "<p>2357 rows × 4 columns</p>\n",
       "</div>"
      ],
      "text/plain": [
       "             frequency  recency       T  monetary_value\n",
       "customer_id                                            \n",
       "4                  3.0     49.0  1334.0       23.723333\n",
       "18                 0.0      0.0  1334.0        0.000000\n",
       "21                 1.0      2.0  1334.0       11.770000\n",
       "50                 0.0      0.0  1334.0        0.000000\n",
       "60                 0.0      0.0  1330.0        0.000000\n",
       "...                ...      ...     ...             ...\n",
       "23537              2.0     53.0  1322.0       19.775000\n",
       "23551              5.0     24.0  1322.0       44.928000\n",
       "23554              1.0     44.0  1322.0       24.600000\n",
       "23556              6.0     62.0  1322.0       31.871667\n",
       "23569              0.0      0.0  1322.0        0.000000\n",
       "\n",
       "[2357 rows x 4 columns]"
      ]
     },
     "execution_count": 32,
     "metadata": {},
     "output_type": "execute_result"
    }
   ],
   "source": [
    "rfm"
   ]
  },
  {
   "cell_type": "markdown",
   "id": "31fc4c44",
   "metadata": {},
   "source": [
    "- Holdout split"
   ]
  },
  {
   "cell_type": "code",
   "execution_count": 34,
   "id": "1f932bac",
   "metadata": {},
   "outputs": [
    {
     "data": {
      "text/html": [
       "<div>\n",
       "<style scoped>\n",
       "    .dataframe tbody tr th:only-of-type {\n",
       "        vertical-align: middle;\n",
       "    }\n",
       "\n",
       "    .dataframe tbody tr th {\n",
       "        vertical-align: top;\n",
       "    }\n",
       "\n",
       "    .dataframe thead th {\n",
       "        text-align: right;\n",
       "    }\n",
       "</style>\n",
       "<table border=\"1\" class=\"dataframe\">\n",
       "  <thead>\n",
       "    <tr style=\"text-align: right;\">\n",
       "      <th></th>\n",
       "      <th>frequency_cal</th>\n",
       "      <th>recency_cal</th>\n",
       "      <th>T_cal</th>\n",
       "      <th>monetary_value_cal</th>\n",
       "      <th>frequency_holdout</th>\n",
       "      <th>monetary_value_holdout</th>\n",
       "      <th>duration_holdout</th>\n",
       "    </tr>\n",
       "    <tr>\n",
       "      <th>customer_id</th>\n",
       "      <th></th>\n",
       "      <th></th>\n",
       "      <th></th>\n",
       "      <th></th>\n",
       "      <th></th>\n",
       "      <th></th>\n",
       "      <th></th>\n",
       "    </tr>\n",
       "  </thead>\n",
       "  <tbody>\n",
       "    <tr>\n",
       "      <th>4</th>\n",
       "      <td>3.0</td>\n",
       "      <td>49.0</td>\n",
       "      <td>52.0</td>\n",
       "      <td>23.723333</td>\n",
       "      <td>0.0</td>\n",
       "      <td>0.0</td>\n",
       "      <td>26.0</td>\n",
       "    </tr>\n",
       "    <tr>\n",
       "      <th>18</th>\n",
       "      <td>0.0</td>\n",
       "      <td>0.0</td>\n",
       "      <td>52.0</td>\n",
       "      <td>0.000000</td>\n",
       "      <td>0.0</td>\n",
       "      <td>0.0</td>\n",
       "      <td>26.0</td>\n",
       "    </tr>\n",
       "    <tr>\n",
       "      <th>21</th>\n",
       "      <td>1.0</td>\n",
       "      <td>2.0</td>\n",
       "      <td>52.0</td>\n",
       "      <td>11.770000</td>\n",
       "      <td>0.0</td>\n",
       "      <td>0.0</td>\n",
       "      <td>26.0</td>\n",
       "    </tr>\n",
       "  </tbody>\n",
       "</table>\n",
       "</div>"
      ],
      "text/plain": [
       "             frequency_cal  recency_cal  T_cal  monetary_value_cal  \\\n",
       "customer_id                                                          \n",
       "4                      3.0         49.0   52.0           23.723333   \n",
       "18                     0.0          0.0   52.0            0.000000   \n",
       "21                     1.0          2.0   52.0           11.770000   \n",
       "\n",
       "             frequency_holdout  monetary_value_holdout  duration_holdout  \n",
       "customer_id                                                               \n",
       "4                          0.0                     0.0              26.0  \n",
       "18                         0.0                     0.0              26.0  \n",
       "21                         0.0                     0.0              26.0  "
      ]
     },
     "execution_count": 34,
     "metadata": {},
     "output_type": "execute_result"
    }
   ],
   "source": [
    "from lifetimes.utils import calibration_and_holdout_data\n",
    "\n",
    "rfm_cal_holdout = calibration_and_holdout_data(transactions=transactions,\n",
    "                                               customer_id_col='customer_id', \n",
    "                                               datetime_col='date',\n",
    "                                               monetary_value_col = 'amount',\n",
    "                                               freq='W',\n",
    "                                               calibration_period_end='1998-01-01',\n",
    "                                               observation_period_end='1998-06-30' )\n",
    "\n",
    "rfm_cal_holdout.head(3)"
   ]
  },
  {
   "cell_type": "markdown",
   "id": "add6cff4",
   "metadata": {},
   "source": [
    "- Fitting"
   ]
  },
  {
   "cell_type": "code",
   "execution_count": 35,
   "id": "efb52b10",
   "metadata": {},
   "outputs": [
    {
     "data": {
      "text/plain": [
       "<lifetimes.BetaGeoFitter: fitted with 2357 subjects, a: 0.53, alpha: 6.73, b: 1.97, r: 0.28>"
      ]
     },
     "execution_count": 35,
     "metadata": {},
     "output_type": "execute_result"
    }
   ],
   "source": [
    "from lifetimes import BetaGeoFitter\n",
    "\n",
    "# instantiation of BG-NBD model\n",
    "bgf = BetaGeoFitter(penalizer_coef=0.0)\n",
    "\n",
    "# fitting of BG-NBD model\n",
    "bgf.fit(frequency=rfm_cal_holdout['frequency_cal'], \n",
    "        recency=rfm_cal_holdout['recency_cal'], \n",
    "        T=rfm_cal_holdout['T_cal'])"
   ]
  },
  {
   "cell_type": "code",
   "execution_count": 37,
   "id": "31fb681c",
   "metadata": {},
   "outputs": [
    {
     "data": {
      "text/html": [
       "<div>\n",
       "<style scoped>\n",
       "    .dataframe tbody tr th:only-of-type {\n",
       "        vertical-align: middle;\n",
       "    }\n",
       "\n",
       "    .dataframe tbody tr th {\n",
       "        vertical-align: top;\n",
       "    }\n",
       "\n",
       "    .dataframe thead th {\n",
       "        text-align: right;\n",
       "    }\n",
       "</style>\n",
       "<table border=\"1\" class=\"dataframe\">\n",
       "  <thead>\n",
       "    <tr style=\"text-align: right;\">\n",
       "      <th></th>\n",
       "      <th>coef</th>\n",
       "      <th>se(coef)</th>\n",
       "      <th>lower 95% bound</th>\n",
       "      <th>upper 95% bound</th>\n",
       "    </tr>\n",
       "  </thead>\n",
       "  <tbody>\n",
       "    <tr>\n",
       "      <th>r</th>\n",
       "      <td>0.281847</td>\n",
       "      <td>0.014034</td>\n",
       "      <td>0.254340</td>\n",
       "      <td>0.309354</td>\n",
       "    </tr>\n",
       "    <tr>\n",
       "      <th>alpha</th>\n",
       "      <td>6.732810</td>\n",
       "      <td>0.532304</td>\n",
       "      <td>5.689494</td>\n",
       "      <td>7.776126</td>\n",
       "    </tr>\n",
       "    <tr>\n",
       "      <th>a</th>\n",
       "      <td>0.532360</td>\n",
       "      <td>0.122632</td>\n",
       "      <td>0.292000</td>\n",
       "      <td>0.772719</td>\n",
       "    </tr>\n",
       "    <tr>\n",
       "      <th>b</th>\n",
       "      <td>1.971260</td>\n",
       "      <td>0.575322</td>\n",
       "      <td>0.843628</td>\n",
       "      <td>3.098892</td>\n",
       "    </tr>\n",
       "  </tbody>\n",
       "</table>\n",
       "</div>"
      ],
      "text/plain": [
       "           coef  se(coef)  lower 95% bound  upper 95% bound\n",
       "r      0.281847  0.014034         0.254340         0.309354\n",
       "alpha  6.732810  0.532304         5.689494         7.776126\n",
       "a      0.532360  0.122632         0.292000         0.772719\n",
       "b      1.971260  0.575322         0.843628         3.098892"
      ]
     },
     "execution_count": 37,
     "metadata": {},
     "output_type": "execute_result"
    }
   ],
   "source": [
    "bgf.summary"
   ]
  },
  {
   "cell_type": "markdown",
   "id": "8894f140",
   "metadata": {},
   "source": [
    "- Camparing artificial and real data"
   ]
  },
  {
   "cell_type": "code",
   "execution_count": 39,
   "id": "58ad22e3",
   "metadata": {},
   "outputs": [
    {
     "data": {
      "image/png": "[encoded data removed]",
      "text/plain": [
       "<Figure size 432x288 with 1 Axes>"
      ]
     },
     "metadata": {
      "needs_background": "light"
     },
     "output_type": "display_data"
    }
   ],
   "source": [
    "from lifetimes.plotting import plot_period_transactions\n",
    "\n",
    "_ = plot_period_transactions(bgf) "
   ]
  },
  {
   "cell_type": "markdown",
   "id": "f3830bc5",
   "metadata": {},
   "source": [
    "- Making predictions"
   ]
  },
  {
   "cell_type": "code",
   "execution_count": 41,
   "id": "3398fc00",
   "metadata": {},
   "outputs": [],
   "source": [
    "# First, we choose a sample customer. \n",
    "sample_customer = rfm_cal_holdout.iloc[20] "
   ]
  },
  {
   "cell_type": "code",
   "execution_count": 42,
   "id": "998678eb",
   "metadata": {},
   "outputs": [
    {
     "data": {
      "text/plain": [
       "frequency_cal              3.000000\n",
       "recency_cal               28.000000\n",
       "T_cal                     52.000000\n",
       "monetary_value_cal        25.076667\n",
       "frequency_holdout          2.000000\n",
       "monetary_value_holdout    29.480000\n",
       "duration_holdout          26.000000\n",
       "Name: 226, dtype: float64"
      ]
     },
     "execution_count": 42,
     "metadata": {},
     "output_type": "execute_result"
    }
   ],
   "source": [
    "# Let's inspect his frequency, recency and T both for the calibration and observation periods:\n",
    "sample_customer"
   ]
  },
  {
   "cell_type": "code",
   "execution_count": 44,
   "id": "f05f9bce",
   "metadata": {},
   "outputs": [
    {
     "data": {
      "text/plain": [
       "0.7647440846242359"
      ]
     },
     "execution_count": 44,
     "metadata": {},
     "output_type": "execute_result"
    }
   ],
   "source": [
    "# This function calculates the conditional expected number of transactions in the given time length\n",
    "n_transactions_pred = bgf.predict(t=26, # we set it to 26 weeks (the length of the observation period)\n",
    "                                  frequency=sample_customer['frequency_cal'], \n",
    "                                  recency=sample_customer['recency_cal'], \n",
    "                                  T=sample_customer['T_cal'])\n",
    "\n",
    "n_transactions_pred"
   ]
  },
  {
   "cell_type": "code",
   "execution_count": 45,
   "id": "6e7aa604",
   "metadata": {},
   "outputs": [
    {
     "data": {
      "text/plain": [
       "array([0.57089896])"
      ]
     },
     "execution_count": 45,
     "metadata": {},
     "output_type": "execute_result"
    }
   ],
   "source": [
    "alive_prob = bgf.conditional_probability_alive(frequency=sample_customer['frequency_cal'], \n",
    "                                               recency=sample_customer['recency_cal'], \n",
    "                                               T=sample_customer['T_cal'])\n",
    "\n",
    "alive_prob"
   ]
  },
  {
   "cell_type": "markdown",
   "id": "9ec72806",
   "metadata": {},
   "source": [
    "- Comparison of real and predicted number of transactions"
   ]
  },
  {
   "cell_type": "code",
   "execution_count": 46,
   "id": "d488b172",
   "metadata": {},
   "outputs": [],
   "source": [
    "# the real number of transactions in the observation period, which equals frequency_holdout + 1\n",
    "rfm_cal_holdout[\"n_transactions_holdout_real\"]  = rfm_cal_holdout[\"frequency_holdout\"] + 1"
   ]
  },
  {
   "cell_type": "code",
   "execution_count": 47,
   "id": "2218ead4",
   "metadata": {},
   "outputs": [],
   "source": [
    "# the predicted number of transactions in the next 26 weeks (length of the observation period)\n",
    "rfm_cal_holdout[\"n_transactions_holdout_pred\"] = bgf.predict(t=26, \n",
    "                                                    frequency=rfm_cal_holdout['frequency_cal'], \n",
    "                                                    recency=rfm_cal_holdout['recency_cal'], \n",
    "                                                    T=rfm_cal_holdout['T_cal'])"
   ]
  },
  {
   "cell_type": "code",
   "execution_count": 48,
   "id": "5f59a56f",
   "metadata": {},
   "outputs": [
    {
     "data": {
      "text/html": [
       "<div>\n",
       "<style scoped>\n",
       "    .dataframe tbody tr th:only-of-type {\n",
       "        vertical-align: middle;\n",
       "    }\n",
       "\n",
       "    .dataframe tbody tr th {\n",
       "        vertical-align: top;\n",
       "    }\n",
       "\n",
       "    .dataframe thead th {\n",
       "        text-align: right;\n",
       "    }\n",
       "</style>\n",
       "<table border=\"1\" class=\"dataframe\">\n",
       "  <thead>\n",
       "    <tr style=\"text-align: right;\">\n",
       "      <th></th>\n",
       "      <th>n_transactions_holdout_real</th>\n",
       "      <th>n_transactions_holdout_pred</th>\n",
       "    </tr>\n",
       "    <tr>\n",
       "      <th>customer_id</th>\n",
       "      <th></th>\n",
       "      <th></th>\n",
       "    </tr>\n",
       "  </thead>\n",
       "  <tbody>\n",
       "    <tr>\n",
       "      <th>4</th>\n",
       "      <td>1.0</td>\n",
       "      <td>1.155554</td>\n",
       "    </tr>\n",
       "    <tr>\n",
       "      <th>18</th>\n",
       "      <td>1.0</td>\n",
       "      <td>0.118167</td>\n",
       "    </tr>\n",
       "    <tr>\n",
       "      <th>21</th>\n",
       "      <td>1.0</td>\n",
       "      <td>0.128974</td>\n",
       "    </tr>\n",
       "    <tr>\n",
       "      <th>50</th>\n",
       "      <td>1.0</td>\n",
       "      <td>0.118167</td>\n",
       "    </tr>\n",
       "    <tr>\n",
       "      <th>60</th>\n",
       "      <td>1.0</td>\n",
       "      <td>0.126350</td>\n",
       "    </tr>\n",
       "  </tbody>\n",
       "</table>\n",
       "</div>"
      ],
      "text/plain": [
       "             n_transactions_holdout_real  n_transactions_holdout_pred\n",
       "customer_id                                                          \n",
       "4                                    1.0                     1.155554\n",
       "18                                   1.0                     0.118167\n",
       "21                                   1.0                     0.128974\n",
       "50                                   1.0                     0.118167\n",
       "60                                   1.0                     0.126350"
      ]
     },
     "execution_count": 48,
     "metadata": {},
     "output_type": "execute_result"
    }
   ],
   "source": [
    "# comparison of the real and predicted transactions\n",
    "rfm_cal_holdout[[\"n_transactions_holdout_real\", \"n_transactions_holdout_pred\"]].head()"
   ]
  },
  {
   "cell_type": "code",
   "execution_count": 50,
   "id": "8504bf28",
   "metadata": {},
   "outputs": [
    {
     "data": {
      "text/plain": [
       "1.3536793286521"
      ]
     },
     "execution_count": 50,
     "metadata": {},
     "output_type": "execute_result"
    }
   ],
   "source": [
    "\n",
    "from sklearn.metrics import mean_squared_error\n",
    "\n",
    "RMSE = mean_squared_error(y_true = rfm_cal_holdout[\"n_transactions_holdout_real\"],\n",
    "                          y_pred = rfm_cal_holdout[\"n_transactions_holdout_pred\"],\n",
    "                          squared = False)\n",
    "\n",
    "RMSE"
   ]
  },
  {
   "cell_type": "markdown",
   "id": "dc56cbb7",
   "metadata": {},
   "source": [
    "- Visualization"
   ]
  },
  {
   "cell_type": "code",
   "execution_count": 51,
   "id": "9022d58d",
   "metadata": {},
   "outputs": [
    {
     "data": {
      "image/png": "[encoded data removed]",
      "text/plain": [
       "<Figure size 1440x1152 with 2 Axes>"
      ]
     },
     "metadata": {
      "needs_background": "light"
     },
     "output_type": "display_data"
    }
   ],
   "source": [
    "import numpy as np\n",
    "import scipy.stats as stats\n",
    "from matplotlib import pyplot as plt\n",
    "\n",
    "fig, (ax_gamma, ax_beta) = plt.subplots(ncols=1, nrows =2, figsize = (20, 16))\n",
    "\n",
    "x_gamma = np.linspace(0, 10, 1000)\n",
    "y_gamma = stats.gamma.pdf(x_gamma, a=bgf.params_[\"alpha\"], scale=bgf.params_[\"r\"])\n",
    "ax_gamma.plot(x_gamma, y_gamma, \"-\")\n",
    "ax_gamma.set_title(f'Gamma distribution (alpha = {bgf.params_[\"alpha\"]:.2f}, scale (r)  = {bgf.params_[\"r\"]:.2f})')\n",
    "ax_gamma.set_xlabel(r'$\\lambda$')\n",
    "ax_gamma.set_ylabel(r'$P(\\lambda)$')\n",
    "\n",
    "\n",
    "x_beta = np.linspace(0, 1, 100)\n",
    "y_beta = stats.beta.pdf(x_beta, a=bgf.params_[\"a\"], b=bgf.params_[\"b\"])\n",
    "ax_beta.plot(x_beta, y_beta, \"-\")\n",
    "ax_beta.set_title(f'Beta distribution (a = {bgf.params_[\"a\"]:.2f}, b  = {bgf.params_[\"b\"]:.2f})')\n",
    "ax_beta.set_xlabel('p')\n",
    "ax_beta.set_ylabel('P(p)')\n",
    "plt.show()"
   ]
  },
  {
   "cell_type": "code",
   "execution_count": null,
   "id": "8b4998e3",
   "metadata": {},
   "outputs": [],
   "source": []
  }
 ],
 "metadata": {
  "kernelspec": {
   "display_name": "Python 3",
   "language": "python",
   "name": "python3"
  },
  "language_info": {
   "codemirror_mode": {
    "name": "ipython",
    "version": 3
   },
   "file_extension": ".py",
   "mimetype": "text/x-python",
   "name": "python",
   "nbconvert_exporter": "python",
   "pygments_lexer": "ipython3",
   "version": "3.8.8"
  }
 },
 "nbformat": 4,
 "nbformat_minor": 5
}
